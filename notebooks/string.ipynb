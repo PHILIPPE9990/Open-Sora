{
 "cells": [
  {
   "cell_type": "code",
   "execution_count": 4,
   "metadata": {},
   "outputs": [],
   "source": [
    "import re"
   ]
  },
  {
   "cell_type": "code",
   "execution_count": 5,
   "metadata": {},
   "outputs": [],
   "source": [
    "def count_words(s):\n",
    "    return len(s.split())"
   ]
  },
  {
   "cell_type": "code",
   "execution_count": 6,
   "metadata": {},
   "outputs": [],
   "source": [
    "def check_length(n):\n",
    "    return 5 <= n <= 100"
   ]
  },
  {
   "cell_type": "code",
   "execution_count": 7,
   "metadata": {},
   "outputs": [],
   "source": [
    "#only English letters, spaces, or digits\n",
    "def check_wordings(s):\n",
    "    if not re.match(\"^[a-zA-Z0-9\\s]*$\", s):\n",
    "        return False\n",
    "    else:\n",
    "        return True"
   ]
  },
  {
   "cell_type": "code",
   "execution_count": 8,
   "metadata": {},
   "outputs": [],
   "source": [
    "x = \"晶我我我我\""
   ]
  },
  {
   "cell_type": "code",
   "execution_count": 13,
   "metadata": {},
   "outputs": [
    {
     "data": {
      "text/plain": [
       "['晶我我我我']"
      ]
     },
     "execution_count": 13,
     "metadata": {},
     "output_type": "execute_result"
    }
   ],
   "source": [
    "x.split()"
   ]
  },
  {
   "cell_type": "code",
   "execution_count": 9,
   "metadata": {},
   "outputs": [
    {
     "name": "stdout",
     "output_type": "stream",
     "text": [
      "False\n"
     ]
    }
   ],
   "source": [
    "print(check_wordings(x) and check_length(count_words(x)))"
   ]
  },
  {
   "cell_type": "code",
   "execution_count": 8,
   "metadata": {},
   "outputs": [
    {
     "name": "stdout",
     "output_type": "stream",
     "text": [
      "Input: 'This is a valid test case' -> Expected: True, Got: True, Pass: True\n",
      "Input: 'Hello world!' -> Expected: False, Got: False, Pass: True\n",
      "Input: '123 456 789 101 112' -> Expected: True, Got: True, Pass: True\n",
      "Input: 'This1 is2 a3 valid4 test5' -> Expected: True, Got: True, Pass: True\n",
      "Input: 'Short' -> Expected: False, Got: False, Pass: True\n",
      "Input: 'This has symbols # and @ which are invalid 我' -> Expected: False, Got: False, Pass: True\n",
      "Input: 'Too many words word word word word word word word word word word word word word word word word word word word word word word word word word word word word word word word word word word word word word word word word word word word word word word word word word word word word word word word word word word word word word word word word word word word word word word word word word word word word word word word word word word word word word word word word word word word word word word word word word word word word ' -> Expected: False, Got: False, Pass: True\n",
      "Input: 'Just right word word word word word word word word word word word word word word word word word word word word word word word word word word word word word word word word word word word word word word word word word word word word word word word word word word word word word word word word word word word word word word word word word word word word word word word word word word word word word word word word word word word word word word word word word word word word word word word ' -> Expected: True, Got: True, Pass: True\n",
      "Input: 'MixedCase Is Allowed With Numbers 123456' -> Expected: True, Got: True, Pass: True\n",
      "Input: 'This    has    extra    spaces' -> Expected: True, Got: False, Pass: False\n",
      "Input: '' -> Expected: False, Got: False, Pass: True\n"
     ]
    }
   ],
   "source": [
    "test_cases = [\n",
    "    (\"This is a valid test case\", True),  # 6 words, only letters and spaces\n",
    "    (\"Hello world!\", False),  # Only 2 words, should fail\n",
    "    (\"123 456 789 101 112\", True),  # 5 words (all numbers), should pass\n",
    "    (\"This1 is2 a3 valid4 test5\", True),  # Words with numbers, should pass\n",
    "    (\"Short\", False),  # Only 1 word, should fail\n",
    "    (\"This has symbols # and @ which are invalid 我\", False),  # Contains invalid symbols\n",
    "    (\"Too many words \" + \"word \" * 100, False),  # 101 words, should fail\n",
    "    (\"Just right \" + \"word \" * 95, True),  # 100 words, should pass\n",
    "    (\"MixedCase Is Allowed With Numbers 123456\", True),  # Mixed case and numbers, should pass\n",
    "    (\"This    has    extra    spaces\", True),  # Extra spaces between words, should still be valid\n",
    "    (\"\", False),  # Empty string, should fail\n",
    "]\n",
    "\n",
    "for prompt, expected in test_cases:\n",
    "    result = check_wordings(prompt) and check_length(count_words(prompt))\n",
    "    print(f\"Input: {repr(prompt)} -> Expected: {expected}, Got: {result}, Pass: {result == expected}\")\n"
   ]
  },
  {
   "cell_type": "code",
   "execution_count": null,
   "metadata": {},
   "outputs": [],
   "source": []
  }
 ],
 "metadata": {
  "kernelspec": {
   "display_name": "opensora",
   "language": "python",
   "name": "python3"
  },
  "language_info": {
   "codemirror_mode": {
    "name": "ipython",
    "version": 3
   },
   "file_extension": ".py",
   "mimetype": "text/x-python",
   "name": "python",
   "nbconvert_exporter": "python",
   "pygments_lexer": "ipython3",
   "version": "3.9.21"
  }
 },
 "nbformat": 4,
 "nbformat_minor": 2
}
